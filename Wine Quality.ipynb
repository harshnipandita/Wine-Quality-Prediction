{
 "cells": [
  {
   "cell_type": "code",
   "execution_count": 1,
   "metadata": {
    "id": "3nwpKTXOaFgr"
   },
   "outputs": [],
   "source": [
    "#Libraries Which we used for our project Wine quality prediction.\n",
    "import pandas as pd\n",
    "import seaborn as sns\n",
    "import matplotlib.pyplot as plt\n",
    "from sklearn.model_selection import train_test_split\n",
    "from sklearn.ensemble import RandomForestClassifier\n",
    "from sklearn.metrics import accuracy_score\n",
    "from sklearn.metrics import mean_squared_error\n",
    "from sklearn.metrics import classification_report\n",
    "import numpy as np\n"
   ]
  },
  {
   "cell_type": "code",
   "execution_count": 2,
   "metadata": {
    "id": "22OQKjqxaPjo"
   },
   "outputs": [],
   "source": [
    "#Loading dataset from path\n",
    "winew = pd.read_csv('winequalityN.csv')\n",
    "winer = pd.read_csv('winequality.csv')"
   ]
  },
  {
   "cell_type": "code",
   "execution_count": 3,
   "metadata": {
    "colab": {
     "base_uri": "https://localhost:8080/",
     "height": 203
    },
    "id": "Gag0MDcra5mI",
    "outputId": "b9626bbf-1756-4fa5-8708-9127e4d154c0"
   },
   "outputs": [
    {
     "data": {
      "text/html": [
       "<div>\n",
       "<style scoped>\n",
       "    .dataframe tbody tr th:only-of-type {\n",
       "        vertical-align: middle;\n",
       "    }\n",
       "\n",
       "    .dataframe tbody tr th {\n",
       "        vertical-align: top;\n",
       "    }\n",
       "\n",
       "    .dataframe thead th {\n",
       "        text-align: right;\n",
       "    }\n",
       "</style>\n",
       "<table border=\"1\" class=\"dataframe\">\n",
       "  <thead>\n",
       "    <tr style=\"text-align: right;\">\n",
       "      <th></th>\n",
       "      <th>fixed acidity</th>\n",
       "      <th>volatile acidity</th>\n",
       "      <th>citric acid</th>\n",
       "      <th>residual sugar</th>\n",
       "      <th>chlorides</th>\n",
       "      <th>free sulfur dioxide</th>\n",
       "      <th>total sulfur dioxide</th>\n",
       "      <th>density</th>\n",
       "      <th>pH</th>\n",
       "      <th>sulphates</th>\n",
       "      <th>alcohol</th>\n",
       "      <th>quality</th>\n",
       "    </tr>\n",
       "  </thead>\n",
       "  <tbody>\n",
       "    <tr>\n",
       "      <th>0</th>\n",
       "      <td>7.4</td>\n",
       "      <td>0.70</td>\n",
       "      <td>0.00</td>\n",
       "      <td>1.9</td>\n",
       "      <td>0.076</td>\n",
       "      <td>11.0</td>\n",
       "      <td>34.0</td>\n",
       "      <td>0.9978</td>\n",
       "      <td>3.51</td>\n",
       "      <td>0.56</td>\n",
       "      <td>9.4</td>\n",
       "      <td>5</td>\n",
       "    </tr>\n",
       "    <tr>\n",
       "      <th>1</th>\n",
       "      <td>7.8</td>\n",
       "      <td>0.88</td>\n",
       "      <td>0.00</td>\n",
       "      <td>2.6</td>\n",
       "      <td>0.098</td>\n",
       "      <td>25.0</td>\n",
       "      <td>67.0</td>\n",
       "      <td>0.9968</td>\n",
       "      <td>3.20</td>\n",
       "      <td>0.68</td>\n",
       "      <td>9.8</td>\n",
       "      <td>5</td>\n",
       "    </tr>\n",
       "    <tr>\n",
       "      <th>2</th>\n",
       "      <td>7.8</td>\n",
       "      <td>0.76</td>\n",
       "      <td>0.04</td>\n",
       "      <td>2.3</td>\n",
       "      <td>0.092</td>\n",
       "      <td>15.0</td>\n",
       "      <td>54.0</td>\n",
       "      <td>0.9970</td>\n",
       "      <td>3.26</td>\n",
       "      <td>0.65</td>\n",
       "      <td>9.8</td>\n",
       "      <td>5</td>\n",
       "    </tr>\n",
       "    <tr>\n",
       "      <th>3</th>\n",
       "      <td>11.2</td>\n",
       "      <td>0.28</td>\n",
       "      <td>0.56</td>\n",
       "      <td>1.9</td>\n",
       "      <td>0.075</td>\n",
       "      <td>17.0</td>\n",
       "      <td>60.0</td>\n",
       "      <td>0.9980</td>\n",
       "      <td>3.16</td>\n",
       "      <td>0.58</td>\n",
       "      <td>9.8</td>\n",
       "      <td>6</td>\n",
       "    </tr>\n",
       "    <tr>\n",
       "      <th>4</th>\n",
       "      <td>7.4</td>\n",
       "      <td>0.70</td>\n",
       "      <td>0.00</td>\n",
       "      <td>1.9</td>\n",
       "      <td>0.076</td>\n",
       "      <td>11.0</td>\n",
       "      <td>34.0</td>\n",
       "      <td>0.9978</td>\n",
       "      <td>3.51</td>\n",
       "      <td>0.56</td>\n",
       "      <td>9.4</td>\n",
       "      <td>5</td>\n",
       "    </tr>\n",
       "  </tbody>\n",
       "</table>\n",
       "</div>"
      ],
      "text/plain": [
       "   fixed acidity  volatile acidity  citric acid  residual sugar  chlorides  \\\n",
       "0            7.4              0.70         0.00             1.9      0.076   \n",
       "1            7.8              0.88         0.00             2.6      0.098   \n",
       "2            7.8              0.76         0.04             2.3      0.092   \n",
       "3           11.2              0.28         0.56             1.9      0.075   \n",
       "4            7.4              0.70         0.00             1.9      0.076   \n",
       "\n",
       "   free sulfur dioxide  total sulfur dioxide  density    pH  sulphates  \\\n",
       "0                 11.0                  34.0   0.9978  3.51       0.56   \n",
       "1                 25.0                  67.0   0.9968  3.20       0.68   \n",
       "2                 15.0                  54.0   0.9970  3.26       0.65   \n",
       "3                 17.0                  60.0   0.9980  3.16       0.58   \n",
       "4                 11.0                  34.0   0.9978  3.51       0.56   \n",
       "\n",
       "   alcohol  quality  \n",
       "0      9.4        5  \n",
       "1      9.8        5  \n",
       "2      9.8        5  \n",
       "3      9.8        6  \n",
       "4      9.4        5  "
      ]
     },
     "execution_count": 3,
     "metadata": {},
     "output_type": "execute_result"
    }
   ],
   "source": [
    "winer.head(5)\n"
   ]
  },
  {
   "cell_type": "code",
   "execution_count": 4,
   "metadata": {
    "id": "zNZKiWHXgM_J"
   },
   "outputs": [],
   "source": [
    "winew.drop('type',\n",
    "  axis='columns', inplace=True)"
   ]
  },
  {
   "cell_type": "code",
   "execution_count": 5,
   "metadata": {
    "colab": {
     "base_uri": "https://localhost:8080/",
     "height": 203
    },
    "id": "vmsv-fJRgXzv",
    "outputId": "a0825c93-3e49-4a00-adfa-b20c3ace19dd"
   },
   "outputs": [
    {
     "data": {
      "text/html": [
       "<div>\n",
       "<style scoped>\n",
       "    .dataframe tbody tr th:only-of-type {\n",
       "        vertical-align: middle;\n",
       "    }\n",
       "\n",
       "    .dataframe tbody tr th {\n",
       "        vertical-align: top;\n",
       "    }\n",
       "\n",
       "    .dataframe thead th {\n",
       "        text-align: right;\n",
       "    }\n",
       "</style>\n",
       "<table border=\"1\" class=\"dataframe\">\n",
       "  <thead>\n",
       "    <tr style=\"text-align: right;\">\n",
       "      <th></th>\n",
       "      <th>fixed acidity</th>\n",
       "      <th>volatile acidity</th>\n",
       "      <th>citric acid</th>\n",
       "      <th>residual sugar</th>\n",
       "      <th>chlorides</th>\n",
       "      <th>free sulfur dioxide</th>\n",
       "      <th>total sulfur dioxide</th>\n",
       "      <th>density</th>\n",
       "      <th>pH</th>\n",
       "      <th>sulphates</th>\n",
       "      <th>alcohol</th>\n",
       "      <th>quality</th>\n",
       "    </tr>\n",
       "  </thead>\n",
       "  <tbody>\n",
       "    <tr>\n",
       "      <th>0</th>\n",
       "      <td>7.0</td>\n",
       "      <td>0.27</td>\n",
       "      <td>0.36</td>\n",
       "      <td>20.7</td>\n",
       "      <td>0.045</td>\n",
       "      <td>45.0</td>\n",
       "      <td>170.0</td>\n",
       "      <td>1.0010</td>\n",
       "      <td>3.00</td>\n",
       "      <td>0.45</td>\n",
       "      <td>8.8</td>\n",
       "      <td>6</td>\n",
       "    </tr>\n",
       "    <tr>\n",
       "      <th>1</th>\n",
       "      <td>6.3</td>\n",
       "      <td>0.30</td>\n",
       "      <td>0.34</td>\n",
       "      <td>1.6</td>\n",
       "      <td>0.049</td>\n",
       "      <td>14.0</td>\n",
       "      <td>132.0</td>\n",
       "      <td>0.9940</td>\n",
       "      <td>3.30</td>\n",
       "      <td>0.49</td>\n",
       "      <td>9.5</td>\n",
       "      <td>6</td>\n",
       "    </tr>\n",
       "    <tr>\n",
       "      <th>2</th>\n",
       "      <td>8.1</td>\n",
       "      <td>0.28</td>\n",
       "      <td>0.40</td>\n",
       "      <td>6.9</td>\n",
       "      <td>0.050</td>\n",
       "      <td>30.0</td>\n",
       "      <td>97.0</td>\n",
       "      <td>0.9951</td>\n",
       "      <td>3.26</td>\n",
       "      <td>0.44</td>\n",
       "      <td>10.1</td>\n",
       "      <td>6</td>\n",
       "    </tr>\n",
       "    <tr>\n",
       "      <th>3</th>\n",
       "      <td>7.2</td>\n",
       "      <td>0.23</td>\n",
       "      <td>0.32</td>\n",
       "      <td>8.5</td>\n",
       "      <td>0.058</td>\n",
       "      <td>47.0</td>\n",
       "      <td>186.0</td>\n",
       "      <td>0.9956</td>\n",
       "      <td>3.19</td>\n",
       "      <td>0.40</td>\n",
       "      <td>9.9</td>\n",
       "      <td>6</td>\n",
       "    </tr>\n",
       "    <tr>\n",
       "      <th>4</th>\n",
       "      <td>7.2</td>\n",
       "      <td>0.23</td>\n",
       "      <td>0.32</td>\n",
       "      <td>8.5</td>\n",
       "      <td>0.058</td>\n",
       "      <td>47.0</td>\n",
       "      <td>186.0</td>\n",
       "      <td>0.9956</td>\n",
       "      <td>3.19</td>\n",
       "      <td>0.40</td>\n",
       "      <td>9.9</td>\n",
       "      <td>6</td>\n",
       "    </tr>\n",
       "  </tbody>\n",
       "</table>\n",
       "</div>"
      ],
      "text/plain": [
       "   fixed acidity  volatile acidity  citric acid  residual sugar  chlorides  \\\n",
       "0            7.0              0.27         0.36            20.7      0.045   \n",
       "1            6.3              0.30         0.34             1.6      0.049   \n",
       "2            8.1              0.28         0.40             6.9      0.050   \n",
       "3            7.2              0.23         0.32             8.5      0.058   \n",
       "4            7.2              0.23         0.32             8.5      0.058   \n",
       "\n",
       "   free sulfur dioxide  total sulfur dioxide  density    pH  sulphates  \\\n",
       "0                 45.0                 170.0   1.0010  3.00       0.45   \n",
       "1                 14.0                 132.0   0.9940  3.30       0.49   \n",
       "2                 30.0                  97.0   0.9951  3.26       0.44   \n",
       "3                 47.0                 186.0   0.9956  3.19       0.40   \n",
       "4                 47.0                 186.0   0.9956  3.19       0.40   \n",
       "\n",
       "   alcohol  quality  \n",
       "0      8.8        6  \n",
       "1      9.5        6  \n",
       "2     10.1        6  \n",
       "3      9.9        6  \n",
       "4      9.9        6  "
      ]
     },
     "execution_count": 5,
     "metadata": {},
     "output_type": "execute_result"
    }
   ],
   "source": [
    "winew.head(5)"
   ]
  },
  {
   "cell_type": "code",
   "execution_count": 6,
   "metadata": {
    "colab": {
     "base_uri": "https://localhost:8080/",
     "height": 312
    },
    "id": "L8QdjMO9gpL7",
    "outputId": "9e14c248-4ffb-4c89-fcd0-60f4b2d0b13a",
    "scrolled": true
   },
   "outputs": [
    {
     "data": {
      "text/html": [
       "<div>\n",
       "<style scoped>\n",
       "    .dataframe tbody tr th:only-of-type {\n",
       "        vertical-align: middle;\n",
       "    }\n",
       "\n",
       "    .dataframe tbody tr th {\n",
       "        vertical-align: top;\n",
       "    }\n",
       "\n",
       "    .dataframe thead th {\n",
       "        text-align: right;\n",
       "    }\n",
       "</style>\n",
       "<table border=\"1\" class=\"dataframe\">\n",
       "  <thead>\n",
       "    <tr style=\"text-align: right;\">\n",
       "      <th></th>\n",
       "      <th>fixed acidity</th>\n",
       "      <th>volatile acidity</th>\n",
       "      <th>citric acid</th>\n",
       "      <th>residual sugar</th>\n",
       "      <th>chlorides</th>\n",
       "      <th>free sulfur dioxide</th>\n",
       "      <th>total sulfur dioxide</th>\n",
       "      <th>density</th>\n",
       "      <th>pH</th>\n",
       "      <th>sulphates</th>\n",
       "      <th>alcohol</th>\n",
       "      <th>quality</th>\n",
       "    </tr>\n",
       "  </thead>\n",
       "  <tbody>\n",
       "    <tr>\n",
       "      <th>count</th>\n",
       "      <td>1599.000000</td>\n",
       "      <td>1599.000000</td>\n",
       "      <td>1599.000000</td>\n",
       "      <td>1599.000000</td>\n",
       "      <td>1599.000000</td>\n",
       "      <td>1599.000000</td>\n",
       "      <td>1599.000000</td>\n",
       "      <td>1599.000000</td>\n",
       "      <td>1599.000000</td>\n",
       "      <td>1599.000000</td>\n",
       "      <td>1599.000000</td>\n",
       "      <td>1599.000000</td>\n",
       "    </tr>\n",
       "    <tr>\n",
       "      <th>mean</th>\n",
       "      <td>8.319637</td>\n",
       "      <td>0.527821</td>\n",
       "      <td>0.270976</td>\n",
       "      <td>2.538806</td>\n",
       "      <td>0.087467</td>\n",
       "      <td>15.874922</td>\n",
       "      <td>46.467792</td>\n",
       "      <td>0.996747</td>\n",
       "      <td>3.311113</td>\n",
       "      <td>0.658149</td>\n",
       "      <td>10.422983</td>\n",
       "      <td>5.636023</td>\n",
       "    </tr>\n",
       "    <tr>\n",
       "      <th>std</th>\n",
       "      <td>1.741096</td>\n",
       "      <td>0.179060</td>\n",
       "      <td>0.194801</td>\n",
       "      <td>1.409928</td>\n",
       "      <td>0.047065</td>\n",
       "      <td>10.460157</td>\n",
       "      <td>32.895324</td>\n",
       "      <td>0.001887</td>\n",
       "      <td>0.154386</td>\n",
       "      <td>0.169507</td>\n",
       "      <td>1.065668</td>\n",
       "      <td>0.807569</td>\n",
       "    </tr>\n",
       "    <tr>\n",
       "      <th>min</th>\n",
       "      <td>4.600000</td>\n",
       "      <td>0.120000</td>\n",
       "      <td>0.000000</td>\n",
       "      <td>0.900000</td>\n",
       "      <td>0.012000</td>\n",
       "      <td>1.000000</td>\n",
       "      <td>6.000000</td>\n",
       "      <td>0.990070</td>\n",
       "      <td>2.740000</td>\n",
       "      <td>0.330000</td>\n",
       "      <td>8.400000</td>\n",
       "      <td>3.000000</td>\n",
       "    </tr>\n",
       "    <tr>\n",
       "      <th>25%</th>\n",
       "      <td>7.100000</td>\n",
       "      <td>0.390000</td>\n",
       "      <td>0.090000</td>\n",
       "      <td>1.900000</td>\n",
       "      <td>0.070000</td>\n",
       "      <td>7.000000</td>\n",
       "      <td>22.000000</td>\n",
       "      <td>0.995600</td>\n",
       "      <td>3.210000</td>\n",
       "      <td>0.550000</td>\n",
       "      <td>9.500000</td>\n",
       "      <td>5.000000</td>\n",
       "    </tr>\n",
       "    <tr>\n",
       "      <th>50%</th>\n",
       "      <td>7.900000</td>\n",
       "      <td>0.520000</td>\n",
       "      <td>0.260000</td>\n",
       "      <td>2.200000</td>\n",
       "      <td>0.079000</td>\n",
       "      <td>14.000000</td>\n",
       "      <td>38.000000</td>\n",
       "      <td>0.996750</td>\n",
       "      <td>3.310000</td>\n",
       "      <td>0.620000</td>\n",
       "      <td>10.200000</td>\n",
       "      <td>6.000000</td>\n",
       "    </tr>\n",
       "    <tr>\n",
       "      <th>75%</th>\n",
       "      <td>9.200000</td>\n",
       "      <td>0.640000</td>\n",
       "      <td>0.420000</td>\n",
       "      <td>2.600000</td>\n",
       "      <td>0.090000</td>\n",
       "      <td>21.000000</td>\n",
       "      <td>62.000000</td>\n",
       "      <td>0.997835</td>\n",
       "      <td>3.400000</td>\n",
       "      <td>0.730000</td>\n",
       "      <td>11.100000</td>\n",
       "      <td>6.000000</td>\n",
       "    </tr>\n",
       "    <tr>\n",
       "      <th>max</th>\n",
       "      <td>15.900000</td>\n",
       "      <td>1.580000</td>\n",
       "      <td>1.000000</td>\n",
       "      <td>15.500000</td>\n",
       "      <td>0.611000</td>\n",
       "      <td>72.000000</td>\n",
       "      <td>289.000000</td>\n",
       "      <td>1.003690</td>\n",
       "      <td>4.010000</td>\n",
       "      <td>2.000000</td>\n",
       "      <td>14.900000</td>\n",
       "      <td>8.000000</td>\n",
       "    </tr>\n",
       "  </tbody>\n",
       "</table>\n",
       "</div>"
      ],
      "text/plain": [
       "       fixed acidity  volatile acidity  citric acid  residual sugar  \\\n",
       "count    1599.000000       1599.000000  1599.000000     1599.000000   \n",
       "mean        8.319637          0.527821     0.270976        2.538806   \n",
       "std         1.741096          0.179060     0.194801        1.409928   \n",
       "min         4.600000          0.120000     0.000000        0.900000   \n",
       "25%         7.100000          0.390000     0.090000        1.900000   \n",
       "50%         7.900000          0.520000     0.260000        2.200000   \n",
       "75%         9.200000          0.640000     0.420000        2.600000   \n",
       "max        15.900000          1.580000     1.000000       15.500000   \n",
       "\n",
       "         chlorides  free sulfur dioxide  total sulfur dioxide      density  \\\n",
       "count  1599.000000          1599.000000           1599.000000  1599.000000   \n",
       "mean      0.087467            15.874922             46.467792     0.996747   \n",
       "std       0.047065            10.460157             32.895324     0.001887   \n",
       "min       0.012000             1.000000              6.000000     0.990070   \n",
       "25%       0.070000             7.000000             22.000000     0.995600   \n",
       "50%       0.079000            14.000000             38.000000     0.996750   \n",
       "75%       0.090000            21.000000             62.000000     0.997835   \n",
       "max       0.611000            72.000000            289.000000     1.003690   \n",
       "\n",
       "                pH    sulphates      alcohol      quality  \n",
       "count  1599.000000  1599.000000  1599.000000  1599.000000  \n",
       "mean      3.311113     0.658149    10.422983     5.636023  \n",
       "std       0.154386     0.169507     1.065668     0.807569  \n",
       "min       2.740000     0.330000     8.400000     3.000000  \n",
       "25%       3.210000     0.550000     9.500000     5.000000  \n",
       "50%       3.310000     0.620000    10.200000     6.000000  \n",
       "75%       3.400000     0.730000    11.100000     6.000000  \n",
       "max       4.010000     2.000000    14.900000     8.000000  "
      ]
     },
     "execution_count": 6,
     "metadata": {},
     "output_type": "execute_result"
    }
   ],
   "source": [
    "winew.describe()\n",
    "winer.describe()"
   ]
  },
  {
   "cell_type": "code",
   "execution_count": 7,
   "metadata": {
    "colab": {
     "base_uri": "https://localhost:8080/"
    },
    "id": "MsViq8FugyxV",
    "outputId": "b374c140-d13d-4d90-8837-b3aa71df6b64",
    "scrolled": true
   },
   "outputs": [
    {
     "name": "stdout",
     "output_type": "stream",
     "text": [
      "<class 'pandas.core.frame.DataFrame'>\n",
      "RangeIndex: 6497 entries, 0 to 6496\n",
      "Data columns (total 12 columns):\n",
      " #   Column                Non-Null Count  Dtype  \n",
      "---  ------                --------------  -----  \n",
      " 0   fixed acidity         6487 non-null   float64\n",
      " 1   volatile acidity      6489 non-null   float64\n",
      " 2   citric acid           6494 non-null   float64\n",
      " 3   residual sugar        6495 non-null   float64\n",
      " 4   chlorides             6495 non-null   float64\n",
      " 5   free sulfur dioxide   6497 non-null   float64\n",
      " 6   total sulfur dioxide  6497 non-null   float64\n",
      " 7   density               6497 non-null   float64\n",
      " 8   pH                    6488 non-null   float64\n",
      " 9   sulphates             6493 non-null   float64\n",
      " 10  alcohol               6497 non-null   float64\n",
      " 11  quality               6497 non-null   int64  \n",
      "dtypes: float64(11), int64(1)\n",
      "memory usage: 609.2 KB\n"
     ]
    }
   ],
   "source": [
    "winew.info()"
   ]
  },
  {
   "cell_type": "code",
   "execution_count": 8,
   "metadata": {
    "colab": {
     "base_uri": "https://localhost:8080/"
    },
    "id": "mgpUL0HHg3Vf",
    "outputId": "5fcae1b3-6d75-4420-b990-408ab753cc76"
   },
   "outputs": [
    {
     "data": {
      "text/plain": [
       "(6497, 12)"
      ]
     },
     "execution_count": 8,
     "metadata": {},
     "output_type": "execute_result"
    }
   ],
   "source": [
    "#Shape of White Wine\n",
    "winew.shape"
   ]
  },
  {
   "cell_type": "code",
   "execution_count": 9,
   "metadata": {
    "colab": {
     "base_uri": "https://localhost:8080/"
    },
    "id": "TDWvRgMeXSRd",
    "outputId": "58c9783a-c655-47cd-fc2a-99b0786fc0c5"
   },
   "outputs": [
    {
     "data": {
      "text/plain": [
       "(1599, 12)"
      ]
     },
     "execution_count": 9,
     "metadata": {},
     "output_type": "execute_result"
    }
   ],
   "source": [
    "#shape of red wine\n",
    "winer.shape"
   ]
  },
  {
   "cell_type": "code",
   "execution_count": 10,
   "metadata": {
    "colab": {
     "base_uri": "https://localhost:8080/"
    },
    "id": "xAg-V49zXsHx",
    "outputId": "6d3420a5-ced9-443f-c557-5b8b33b4aa1b"
   },
   "outputs": [
    {
     "data": {
      "text/plain": [
       "fixed acidity           10\n",
       "volatile acidity         8\n",
       "citric acid              3\n",
       "residual sugar           2\n",
       "chlorides                2\n",
       "free sulfur dioxide      0\n",
       "total sulfur dioxide     0\n",
       "density                  0\n",
       "pH                       9\n",
       "sulphates                4\n",
       "alcohol                  0\n",
       "quality                  0\n",
       "dtype: int64"
      ]
     },
     "execution_count": 10,
     "metadata": {},
     "output_type": "execute_result"
    }
   ],
   "source": [
    "#checking Null values in Dataset\n",
    "winew.isnull().sum()"
   ]
  },
  {
   "cell_type": "code",
   "execution_count": 11,
   "metadata": {
    "id": "Oh9TukCFYM_3"
   },
   "outputs": [],
   "source": [
    "#Filling null Values in the dataset \n",
    "winew = winew.fillna(winew.mean())"
   ]
  },
  {
   "cell_type": "code",
   "execution_count": 12,
   "metadata": {
    "colab": {
     "base_uri": "https://localhost:8080/",
     "height": 694
    },
    "id": "ltWS7KvdioIc",
    "outputId": "85b88d24-67ba-4637-b4da-deba36eeb6d5"
   },
   "outputs": [
    {
     "data": {
      "text/plain": [
       "<AxesSubplot:xlabel='quality', ylabel='volatile acidity'>"
      ]
     },
     "execution_count": 12,
     "metadata": {},
     "output_type": "execute_result"
    },
    {
     "data": {
      "image/png": "[encoded data removed]",
      "text/plain": [
       "<Figure size 1296x720 with 2 Axes>"
      ]
     },
     "metadata": {
      "needs_background": "light"
     },
     "output_type": "display_data"
    }
   ],
   "source": [
    "fig, axes = plt.subplots(1, 2, figsize=(18, 10))\n",
    "\n",
    "fig.suptitle('Volatile acidity and Quality Relation')\n",
    "\n",
    "sns.barplot(ax=axes[0], data=winer, x='quality', y='volatile acidity')\n",
    "sns.barplot(ax=axes[1], data=winew, x='quality', y='volatile acidity')"
   ]
  },
  {
   "cell_type": "code",
   "execution_count": 13,
   "metadata": {
    "colab": {
     "base_uri": "https://localhost:8080/",
     "height": 694
    },
    "id": "exkptbKQf_uT",
    "outputId": "604823bc-5cb0-4f80-8fb9-b7bf45766c55"
   },
   "outputs": [
    {
     "data": {
      "text/plain": [
       "<AxesSubplot:xlabel='quality', ylabel='citric acid'>"
      ]
     },
     "execution_count": 13,
     "metadata": {},
     "output_type": "execute_result"
    },
    {
     "data": {
      "image/png": "[encoded data removed]",
      "text/plain": [
       "<Figure size 1296x720 with 2 Axes>"
      ]
     },
     "metadata": {
      "needs_background": "light"
     },
     "output_type": "display_data"
    }
   ],
   "source": [
    "fig, axes = plt.subplots(1,2, figsize=(18, 10))\n",
    "\n",
    "fig.suptitle('Citric acid and quality')\n",
    "\n",
    "sns.barplot(ax=axes[0], data=winer, x='quality', y='citric acid')\n",
    "sns.barplot(ax=axes[1], data=winew, x='quality', y='citric acid')"
   ]
  },
  {
   "cell_type": "code",
   "execution_count": 14,
   "metadata": {
    "colab": {
     "base_uri": "https://localhost:8080/",
     "height": 694
    },
    "id": "xzHT4VF6h5I7",
    "outputId": "be23e758-9bdb-4c82-b897-9aed09415aad"
   },
   "outputs": [
    {
     "data": {
      "text/plain": [
       "<AxesSubplot:xlabel='quality', ylabel='alcohol'>"
      ]
     },
     "execution_count": 14,
     "metadata": {},
     "output_type": "execute_result"
    },
    {
     "data": {
      "image/png": "[encoded data removed]",
      "text/plain": [
       "<Figure size 1296x720 with 2 Axes>"
      ]
     },
     "metadata": {
      "needs_background": "light"
     },
     "output_type": "display_data"
    }
   ],
   "source": [
    "fig, axes = plt.subplots(1, 2, figsize=(18, 10))\n",
    "\n",
    "fig.suptitle('alcohol and quality')\n",
    "\n",
    "sns.barplot(ax=axes[0], data=winer, x='quality', y='alcohol')\n",
    "sns.barplot(ax=axes[1], data=winew, x='quality', y='alcohol')"
   ]
  },
  {
   "cell_type": "code",
   "execution_count": 15,
   "metadata": {
    "colab": {
     "base_uri": "https://localhost:8080/",
     "height": 516
    },
    "id": "7MPtgFD3ihTT",
    "outputId": "6c3f86a1-d1d3-4706-9a58-d307de2fbc47"
   },
   "outputs": [
    {
     "data": {
      "image/png": "[encoded data removed]",
      "text/plain": [
       "<Figure size 1296x504 with 2 Axes>"
      ]
     },
     "metadata": {
      "needs_background": "light"
     },
     "output_type": "display_data"
    }
   ],
   "source": [
    "\n",
    "# correlation matrix of white wine\n",
    "\n",
    "plt.figure(figsize=[18,7])\n",
    "# plot correlation\n",
    "\n",
    "sns.heatmap(winew.corr(),annot=True)\n",
    "plt.show()"
   ]
  },
  {
   "cell_type": "code",
   "execution_count": 16,
   "metadata": {
    "colab": {
     "base_uri": "https://localhost:8080/",
     "height": 516
    },
    "id": "UpBKXi5Bi0Qp",
    "outputId": "b84e2cc2-79aa-4896-e853-983cf2531944"
   },
   "outputs": [
    {
     "data": {
      "image/png": "[encoded data removed]",
      "text/plain": [
       "<Figure size 1296x504 with 2 Axes>"
      ]
     },
     "metadata": {
      "needs_background": "light"
     },
     "output_type": "display_data"
    }
   ],
   "source": [
    "# correlation matrix of red wine\n",
    "\n",
    "plt.figure(figsize=[18,7])\n",
    "# plot correlation\n",
    "\n",
    "sns.heatmap(winer.corr(),annot=True)\n",
    "plt.show()"
   ]
  },
  {
   "cell_type": "code",
   "execution_count": 17,
   "metadata": {
    "id": "oru2ypa2knCz"
   },
   "outputs": [],
   "source": [
    "\n",
    "X = winew.drop('quality',axis=1)\n",
    "C = winer.drop('quality',axis=1)"
   ]
  },
  {
   "cell_type": "code",
   "execution_count": 18,
   "metadata": {
    "colab": {
     "base_uri": "https://localhost:8080/"
    },
    "id": "35V9nzv8l_7-",
    "outputId": "d4beebc4-89ea-4bce-8dc9-3a4e691cae84"
   },
   "outputs": [
    {
     "name": "stdout",
     "output_type": "stream",
     "text": [
      "      fixed acidity  volatile acidity  citric acid  residual sugar  chlorides  \\\n",
      "0               7.0             0.270         0.36            20.7      0.045   \n",
      "1               6.3             0.300         0.34             1.6      0.049   \n",
      "2               8.1             0.280         0.40             6.9      0.050   \n",
      "3               7.2             0.230         0.32             8.5      0.058   \n",
      "4               7.2             0.230         0.32             8.5      0.058   \n",
      "...             ...               ...          ...             ...        ...   \n",
      "6492            6.2             0.600         0.08             2.0      0.090   \n",
      "6493            5.9             0.550         0.10             2.2      0.062   \n",
      "6494            6.3             0.510         0.13             2.3      0.076   \n",
      "6495            5.9             0.645         0.12             2.0      0.075   \n",
      "6496            6.0             0.310         0.47             3.6      0.067   \n",
      "\n",
      "      free sulfur dioxide  total sulfur dioxide  density    pH  sulphates  \\\n",
      "0                    45.0                 170.0  1.00100  3.00   0.450000   \n",
      "1                    14.0                 132.0  0.99400  3.30   0.490000   \n",
      "2                    30.0                  97.0  0.99510  3.26   0.440000   \n",
      "3                    47.0                 186.0  0.99560  3.19   0.400000   \n",
      "4                    47.0                 186.0  0.99560  3.19   0.400000   \n",
      "...                   ...                   ...      ...   ...        ...   \n",
      "6492                 32.0                  44.0  0.99490  3.45   0.580000   \n",
      "6493                 39.0                  51.0  0.99512  3.52   0.531215   \n",
      "6494                 29.0                  40.0  0.99574  3.42   0.750000   \n",
      "6495                 32.0                  44.0  0.99547  3.57   0.710000   \n",
      "6496                 18.0                  42.0  0.99549  3.39   0.660000   \n",
      "\n",
      "      alcohol  \n",
      "0         8.8  \n",
      "1         9.5  \n",
      "2        10.1  \n",
      "3         9.9  \n",
      "4         9.9  \n",
      "...       ...  \n",
      "6492     10.5  \n",
      "6493     11.2  \n",
      "6494     11.0  \n",
      "6495     10.2  \n",
      "6496     11.0  \n",
      "\n",
      "[6497 rows x 11 columns]\n",
      "      fixed acidity  volatile acidity  citric acid  residual sugar  chlorides  \\\n",
      "0               7.4             0.700         0.00             1.9      0.076   \n",
      "1               7.8             0.880         0.00             2.6      0.098   \n",
      "2               7.8             0.760         0.04             2.3      0.092   \n",
      "3              11.2             0.280         0.56             1.9      0.075   \n",
      "4               7.4             0.700         0.00             1.9      0.076   \n",
      "...             ...               ...          ...             ...        ...   \n",
      "1594            6.2             0.600         0.08             2.0      0.090   \n",
      "1595            5.9             0.550         0.10             2.2      0.062   \n",
      "1596            6.3             0.510         0.13             2.3      0.076   \n",
      "1597            5.9             0.645         0.12             2.0      0.075   \n",
      "1598            6.0             0.310         0.47             3.6      0.067   \n",
      "\n",
      "      free sulfur dioxide  total sulfur dioxide  density    pH  sulphates  \\\n",
      "0                    11.0                  34.0  0.99780  3.51       0.56   \n",
      "1                    25.0                  67.0  0.99680  3.20       0.68   \n",
      "2                    15.0                  54.0  0.99700  3.26       0.65   \n",
      "3                    17.0                  60.0  0.99800  3.16       0.58   \n",
      "4                    11.0                  34.0  0.99780  3.51       0.56   \n",
      "...                   ...                   ...      ...   ...        ...   \n",
      "1594                 32.0                  44.0  0.99490  3.45       0.58   \n",
      "1595                 39.0                  51.0  0.99512  3.52       0.76   \n",
      "1596                 29.0                  40.0  0.99574  3.42       0.75   \n",
      "1597                 32.0                  44.0  0.99547  3.57       0.71   \n",
      "1598                 18.0                  42.0  0.99549  3.39       0.66   \n",
      "\n",
      "      alcohol  \n",
      "0         9.4  \n",
      "1         9.8  \n",
      "2         9.8  \n",
      "3         9.8  \n",
      "4         9.4  \n",
      "...       ...  \n",
      "1594     10.5  \n",
      "1595     11.2  \n",
      "1596     11.0  \n",
      "1597     10.2  \n",
      "1598     11.0  \n",
      "\n",
      "[1599 rows x 11 columns]\n"
     ]
    }
   ],
   "source": [
    "print(X)\n",
    "print(C)"
   ]
  },
  {
   "cell_type": "code",
   "execution_count": 19,
   "metadata": {
    "id": "rpDgCrNOs3Eu"
   },
   "outputs": [],
   "source": [
    "D = winer['quality'].apply(lambda d_value: 1 if d_value>=6.5 else 0)\n",
    "Y = winew['quality'].apply(lambda y_value: 1 if y_value>=6.5 else 0)"
   ]
  },
  {
   "cell_type": "code",
   "execution_count": 20,
   "metadata": {
    "id": "6P3Of7rhs3Kg"
   },
   "outputs": [],
   "source": [
    "#SPLITTING INTO TRAIN TEST\n",
    "C_train, C_test, D_train, D_test = train_test_split(C, D, test_size=0.2, random_state=3)\n",
    "X_train, X_test, Y_train, Y_test = train_test_split(X, Y, test_size=0.2, random_state=3)"
   ]
  },
  {
   "cell_type": "code",
   "execution_count": 21,
   "metadata": {
    "colab": {
     "base_uri": "https://localhost:8080/"
    },
    "id": "q_76enjTs3MG",
    "outputId": "91bcbe6b-e072-4ecd-ef7a-5a22af867b6f"
   },
   "outputs": [
    {
     "name": "stdout",
     "output_type": "stream",
     "text": [
      "(6497,) (5197,) (1300,)\n",
      "(1599,) (1279,) (320,)\n"
     ]
    }
   ],
   "source": [
    "print(Y.shape, Y_train.shape, Y_test.shape)\n",
    "print(D.shape, D_train.shape, D_test.shape)"
   ]
  },
  {
   "cell_type": "code",
   "execution_count": 22,
   "metadata": {
    "id": "eEZler85s3Qg"
   },
   "outputs": [],
   "source": [
    "model1 = RandomForestClassifier(n_estimators=80)\n",
    "model2 = RandomForestClassifier(n_estimators=80)"
   ]
  },
  {
   "cell_type": "code",
   "execution_count": 23,
   "metadata": {
    "colab": {
     "base_uri": "https://localhost:8080/"
    },
    "id": "yBHtf7ons3dg",
    "outputId": "c43db70c-3286-48ef-bc8e-97f85b4034a4"
   },
   "outputs": [
    {
     "data": {
      "text/plain": [
       "RandomForestClassifier(n_estimators=80)"
      ]
     },
     "execution_count": 23,
     "metadata": {},
     "output_type": "execute_result"
    }
   ],
   "source": [
    "model1.fit(X_train, Y_train)\n",
    "model2.fit(C_train, D_train)\n"
   ]
  },
  {
   "cell_type": "code",
   "execution_count": 24,
   "metadata": {
    "id": "JWcpTtdPwOKG"
   },
   "outputs": [],
   "source": [
    "X_test_prediction = model1.predict(X_test)\n",
    "test_data_accuracyW = accuracy_score(X_test_prediction, Y_test)\n",
    "C_test_prediction = model2.predict(C_test)\n",
    "test_data_accuracyR = accuracy_score(C_test_prediction, D_test)"
   ]
  },
  {
   "cell_type": "code",
   "execution_count": 25,
   "metadata": {
    "colab": {
     "base_uri": "https://localhost:8080/"
    },
    "id": "jfi7t-8IxIkm",
    "outputId": "b4f4d26e-0e4b-43a8-e6d4-bc12a16aef30"
   },
   "outputs": [
    {
     "name": "stdout",
     "output_type": "stream",
     "text": [
      "Accuracy :  0.934375\n",
      "Accuracy :  0.8830769230769231\n"
     ]
    }
   ],
   "source": [
    "print('Accuracy : ', test_data_accuracyR)\n",
    "print('Accuracy : ', test_data_accuracyW)"
   ]
  },
  {
   "cell_type": "code",
   "execution_count": 26,
   "metadata": {
    "id": "3HMbKkZ7yys-"
   },
   "outputs": [],
   "source": [
    "# print('calculating the error')\n",
    " \n",
    "# # checking mean_squared error\n",
    "# y_predict = model.predict(Y_test)\n",
    "\n",
    "\n",
    "\n",
    "# MSE = mean_squared_error(Y_test,y_predict)\n",
    " \n",
    "# # checking root mean squared error\n",
    "\n",
    "# RMSE = np.sqrt(MSE)\n",
    " \n",
    "\n",
    "# print('mean squared error is : ',MSE)\n",
    " \n",
    "\n",
    "# print('root mean squared error is : ',RMSE)\n",
    " \n",
    "\n",
    "# print(classification_report(Y_test,y_predict))"
   ]
  },
  {
   "cell_type": "code",
   "execution_count": 27,
   "metadata": {
    "colab": {
     "base_uri": "https://localhost:8080/"
    },
    "id": "ge_XIQ1K0s0Q",
    "outputId": "b83b734f-e5ed-4c61-9088-8813ae22a722"
   },
   "outputs": [
    {
     "name": "stdout",
     "output_type": "stream",
     "text": [
      "enter fixed acidity\n",
      "1\n",
      "enter volatile acidity\n",
      "0.8\n",
      "enter citric acid\n",
      "0.9\n",
      "enter residual sugar\n",
      "0.1\n",
      "enter chlorides\n",
      "0.2\n",
      "enter free sulfur dioxide\n",
      "0.6\n",
      "enter total sulfur dioxide\n",
      "0.3\n",
      "enter density\n",
      "0.7\n",
      "enter pH\n",
      "0.8\n",
      "enter sulphates\n",
      "1.0\n",
      "enter alcohol\n",
      "0.5\n",
      "[1.  0.8 0.9 0.1 0.2 0.6 0.3 0.7 0.8 1.  0.5]\n",
      "[0]\n",
      "Bad Quality Wine\n"
     ]
    },
    {
     "name": "stderr",
     "output_type": "stream",
     "text": [
      "D:\\anaconda3\\lib\\site-packages\\sklearn\\base.py:450: UserWarning: X does not have valid feature names, but RandomForestClassifier was fitted with feature names\n",
      "  warnings.warn(\n"
     ]
    }
   ],
   "source": [
    "#quality prediction for red wine\n",
    "lis=[]\n",
    "print(\"enter fixed acidity\")\n",
    "lis.append(eval(input()))\n",
    "print(\"enter volatile acidity\")\n",
    "lis.append(eval(input()))\n",
    "print(\"enter citric acid\")\n",
    "lis.append(eval(input()))\n",
    "print(\"enter residual sugar\")\n",
    "lis.append(eval(input()))\n",
    "print(\"enter chlorides\")\n",
    "lis.append(eval(input()))\n",
    "print(\"enter free sulfur dioxide\")\n",
    "lis.append(eval(input()))\n",
    "print(\"enter total sulfur dioxide\")\n",
    "lis.append(eval(input()))\n",
    "print(\"enter density\")\n",
    "lis.append(eval(input()))\n",
    "print(\"enter pH\")\n",
    "lis.append(eval(input()))\n",
    "print(\"enter sulphates\")\n",
    "lis.append(eval(input()))\n",
    "print(\"enter alcohol\")\n",
    "lis.append(eval(input()))\n",
    "lis = tuple(lis)\n",
    "\n",
    "\n",
    "input_data_as_numpy_array = np.asarray(lis)\n",
    "print(input_data_as_numpy_array)\n",
    "\n",
    "input_data_reshaped = input_data_as_numpy_array.reshape(1,-1)\n",
    "\n",
    "prediction = model2.predict(input_data_reshaped)\n",
    "print(prediction)\n",
    "\n",
    "if (prediction[0]==1):\n",
    "  print('Good Quality Wine')\n",
    "else:\n",
    "  print('Bad Quality Wine')"
   ]
  },
  {
   "cell_type": "code",
   "execution_count": 28,
   "metadata": {
    "colab": {
     "base_uri": "https://localhost:8080/",
     "height": 538
    },
    "id": "5-EaO35-3vU1",
    "outputId": "1dae8f9a-c116-48f8-ae7a-095d5edfe6d4"
   },
   "outputs": [
    {
     "name": "stdout",
     "output_type": "stream",
     "text": [
      "enter fixed acidity\n",
      "0.8\n",
      "enter volatile acidity\n",
      "0.5\n",
      "enter citric acid\n",
      "0.2\n",
      "enter residual sugar\n",
      "0.8\n",
      "enter chlorides\n",
      "0.1\n",
      "enter free sulfur dioxide\n",
      "0.8\n",
      "enter total sulfur dioxide\n",
      "0.9\n",
      "enter density\n",
      "0.6\n",
      "enter pH\n",
      "1.0\n",
      "enter sulphates\n",
      "0.8\n",
      "enter alcohol\n",
      "0.9\n",
      "[0.8 0.5 0.2 0.8 0.1 0.8 0.9 0.6 1.  0.8 0.9]\n",
      "[0]\n",
      "Bad Quality Wine\n"
     ]
    },
    {
     "name": "stderr",
     "output_type": "stream",
     "text": [
      "D:\\anaconda3\\lib\\site-packages\\sklearn\\base.py:450: UserWarning: X does not have valid feature names, but RandomForestClassifier was fitted with feature names\n",
      "  warnings.warn(\n"
     ]
    }
   ],
   "source": [
    "# quality prediction for white wine.\n",
    "\n",
    "lis1=[]\n",
    "print(\"enter fixed acidity\")\n",
    "lis1.append(eval(input()))\n",
    "print(\"enter volatile acidity\")\n",
    "lis1.append(eval(input()))\n",
    "print(\"enter citric acid\")\n",
    "lis1.append(eval(input()))\n",
    "print(\"enter residual sugar\")\n",
    "lis1.append(eval(input()))\n",
    "print(\"enter chlorides\")\n",
    "lis1.append(eval(input()))\n",
    "print(\"enter free sulfur dioxide\")\n",
    "lis1.append(eval(input()))\n",
    "print(\"enter total sulfur dioxide\")\n",
    "lis1.append(eval(input()))\n",
    "print(\"enter density\")\n",
    "lis1.append(eval(input()))\n",
    "print(\"enter pH\")\n",
    "lis1.append(eval(input()))\n",
    "print(\"enter sulphates\")\n",
    "lis1.append(eval(input()))\n",
    "print(\"enter alcohol\")\n",
    "lis1.append(eval(input()))\n",
    "lis1 = tuple(lis1)\n",
    "input_data_as_numpy_array1 = np.asarray(lis1)\n",
    "print(input_data_as_numpy_array1)\n",
    "input_data_reshaped1 = input_data_as_numpy_array1.reshape(1,-1)\n",
    "\n",
    "prediction = model2.predict(input_data_reshaped)\n",
    "print(prediction)\n",
    "\n",
    "if (prediction[0]==1):\n",
    "  print('Good Quality Wine')\n",
    "else:\n",
    "  print('Bad Quality Wine')\n"
   ]
  },
  {
   "cell_type": "code",
   "execution_count": 29,
   "metadata": {
    "colab": {
     "base_uri": "https://localhost:8080/",
     "height": 357
    },
    "id": "ye5QBW-p6kAg",
    "outputId": "83e23eba-87ac-4b0a-daa4-7288e5ae1488"
   },
   "outputs": [
    {
     "data": {
      "text/html": [
       "<div>\n",
       "<style scoped>\n",
       "    .dataframe tbody tr th:only-of-type {\n",
       "        vertical-align: middle;\n",
       "    }\n",
       "\n",
       "    .dataframe tbody tr th {\n",
       "        vertical-align: top;\n",
       "    }\n",
       "\n",
       "    .dataframe thead th {\n",
       "        text-align: right;\n",
       "    }\n",
       "</style>\n",
       "<table border=\"1\" class=\"dataframe\">\n",
       "  <thead>\n",
       "    <tr style=\"text-align: right;\">\n",
       "      <th></th>\n",
       "      <th>predicted</th>\n",
       "      <th>orignal</th>\n",
       "    </tr>\n",
       "  </thead>\n",
       "  <tbody>\n",
       "    <tr>\n",
       "      <th>5934</th>\n",
       "      <td>1</td>\n",
       "      <td>1</td>\n",
       "    </tr>\n",
       "    <tr>\n",
       "      <th>1891</th>\n",
       "      <td>0</td>\n",
       "      <td>0</td>\n",
       "    </tr>\n",
       "    <tr>\n",
       "      <th>2417</th>\n",
       "      <td>0</td>\n",
       "      <td>0</td>\n",
       "    </tr>\n",
       "    <tr>\n",
       "      <th>4312</th>\n",
       "      <td>1</td>\n",
       "      <td>0</td>\n",
       "    </tr>\n",
       "    <tr>\n",
       "      <th>5118</th>\n",
       "      <td>0</td>\n",
       "      <td>0</td>\n",
       "    </tr>\n",
       "    <tr>\n",
       "      <th>5453</th>\n",
       "      <td>0</td>\n",
       "      <td>0</td>\n",
       "    </tr>\n",
       "    <tr>\n",
       "      <th>312</th>\n",
       "      <td>0</td>\n",
       "      <td>0</td>\n",
       "    </tr>\n",
       "    <tr>\n",
       "      <th>1507</th>\n",
       "      <td>0</td>\n",
       "      <td>0</td>\n",
       "    </tr>\n",
       "    <tr>\n",
       "      <th>4750</th>\n",
       "      <td>0</td>\n",
       "      <td>0</td>\n",
       "    </tr>\n",
       "    <tr>\n",
       "      <th>2053</th>\n",
       "      <td>0</td>\n",
       "      <td>0</td>\n",
       "    </tr>\n",
       "  </tbody>\n",
       "</table>\n",
       "</div>"
      ],
      "text/plain": [
       "      predicted  orignal\n",
       "5934          1        1\n",
       "1891          0        0\n",
       "2417          0        0\n",
       "4312          1        0\n",
       "5118          0        0\n",
       "5453          0        0\n",
       "312           0        0\n",
       "1507          0        0\n",
       "4750          0        0\n",
       "2053          0        0"
      ]
     },
     "execution_count": 29,
     "metadata": {},
     "output_type": "execute_result"
    }
   ],
   "source": [
    "x_predict = list(model2.predict(X_test))\n",
    "\n",
    "df = {'predicted':x_predict,'orignal':Y_test}\n",
    "\n",
    "pd.DataFrame(df).tail(10)"
   ]
  },
  {
   "cell_type": "code",
   "execution_count": 30,
   "metadata": {
    "id": "mp93yWF9KGIG"
   },
   "outputs": [],
   "source": [
    "from tkinter import *\n",
    "from tkinter import messagebox\n",
    "import os"
   ]
  },
  {
   "cell_type": "code",
   "execution_count": 31,
   "metadata": {},
   "outputs": [],
   "source": [
    "def home_screen():\n",
    "    root =Tk()\n",
    "    root.title(\"GUI\")\n",
    "    root.state('zoomed')\n",
    "    root.resizable(width = False,height = True)\n",
    "    root.configure(bg = \"gray\")\n",
    "    \n",
    "    MainFrame = Frame(root, bg = \"gray\")\n",
    "    MainFrame.pack()\n",
    "    root_lbl = Label(MainFrame,text = \"Wine Quality Prediction\",bg = \"lavender\", fg = \"black\",font = ('',40,'bold','underline'), width=50, height=2, relief='raised', borderwidth=5)\n",
    "    root_lbl.pack(anchor = N,expand = True)\n",
    "    \n",
    "    q_frame = Frame(MainFrame,bg = 'gray', width = 1400, height=800, relief='flat', borderwidth=5)\n",
    "    q_frame.pack(side = LEFT,anchor = W,expand = True)\n",
    "\n",
    "    br_file = Label(q_frame,text = \"DETAILS OF WINE\",bg = \"white\",font = ('',24,'bold'),relief = 'flat',width = 20)\n",
    "    br_file.place(relx = 0.4,rely = 0.001)\n",
    "    \n",
    "    \n",
    "    Label(MainFrame, text='fixed acidity',font=('bold',25)).place(relx = 0.1,rely = 0.3)\n",
    "    e1 = Entry(MainFrame,font=('bold',15))\n",
    "    e1.place(relx = 0.27, rely = 0.31)\n",
    "    e1.focus()\n",
    "\n",
    "    \n",
    "    Label(MainFrame, text='volatile acidity',font=('bold',25)).place(relx = 0.5,rely = 0.3)\n",
    "    e2= Entry(MainFrame,font=('bold',15))\n",
    "    e2.place(relx = 0.68, rely = 0.31)\n",
    "    e2.focus()\n",
    "    \n",
    "    \n",
    "    Label(MainFrame, text='citric acid',font=('bold',25)).place(relx = 0.1,rely = 0.4)\n",
    "    e3 = Entry(MainFrame,font=('bold',15))\n",
    "    e3.place(relx = 0.27, rely = 0.41)\n",
    "    e3.focus()\n",
    "    \n",
    "\n",
    "    \n",
    "    Label(MainFrame, text='residual sugar',font=('bold',25)).place(relx = 0.5,rely = 0.4)\n",
    "    e4 = Entry(MainFrame,font=('bold',15))\n",
    "    e4.place(relx = 0.68,rely = 0.41)\n",
    "    e4.focus()\n",
    "    \n",
    "    \n",
    "    Label(MainFrame, text='chlorides',font=('bold',25)).place(relx = 0.1,rely = 0.5)\n",
    "    e5 = Entry(MainFrame,font=('bold',15))\n",
    "    e5.place(relx = 0.27, rely = 0.51)\n",
    "    e5.focus()\n",
    "    \n",
    "    \n",
    "    \n",
    "    Label(MainFrame, text='free sulfur dioxide',font=('bold',25)).place(relx = 0.5,rely = 0.5)\n",
    "    e6 = Entry(MainFrame,font=('bold',15))\n",
    "    e6.place(relx = 0.68, rely = 0.51)\n",
    "    e6.focus()\n",
    "    \n",
    "    \n",
    "    Label(MainFrame, text='total sulfur dioxide',font=('bold',25)).place(relx = 0.1,rely = 0.6)\n",
    "    e7 = Entry(MainFrame,font=('bold',15))\n",
    "    e7.place(relx = 0.27, rely = 0.61)\n",
    "    e7.focus()\n",
    "    \n",
    "    \n",
    "    \n",
    "    Label(MainFrame, text='density',font=('bold',25)).place(relx = 0.5,rely = 0.6)\n",
    "    e8 = Entry(MainFrame,font=('bold',15))\n",
    "    e8.place(relx = 0.68, rely = 0.61)\n",
    "    e8.focus()\n",
    "    \n",
    "    \n",
    "    \n",
    "    Label(MainFrame, text='pH',font=('bold',25)).place(relx = 0.1,rely = 0.7)\n",
    "    e9 = Entry(MainFrame,font=('bold',15))\n",
    "    e9.place(relx = 0.27, rely = 0.71)\n",
    "    e9.focus()\n",
    "    \n",
    "    \n",
    "    Label(MainFrame, text='sulphates',font=('bold',25)).place(relx = 0.5,rely = 0.7)\n",
    "    e10 = Entry(MainFrame,font=('bold',15))\n",
    "    e10.place(relx = 0.68, rely = 0.71)\n",
    "    e10.focus()\n",
    "    \n",
    "    \n",
    "    Label(MainFrame, text='alcohol',font=('bold',25)).place(relx = 0.1,rely = 0.8)\n",
    "    e11 = Entry(MainFrame,font=('bold',15))\n",
    "    e11.place(relx = 0.27, rely = 0.81)\n",
    "    e11.focus()\n",
    "    \n",
    "    \n",
    "\n",
    "    def Predict1():\n",
    "        fix = e1.get()\n",
    "        vola = e2.get()\n",
    "        citri = e3.get()\n",
    "        resi = e4.get()\n",
    "        chlro = e5.get()\n",
    "        free = e6.get()\n",
    "        sulfur = e7.get()\n",
    "        density = e8.get()\n",
    "        ph = e9.get()\n",
    "        sulpha = e10.get()\n",
    "        alco = e11.get()\n",
    "        lis1 = (fix,vola,citri,resi,chlro,free,sulfur,density,ph,sulpha,alco)\n",
    "        input_data_as_numpy_array1 = np.asarray(lis1)\n",
    "        input_data_reshaped1 = input_data_as_numpy_array1.reshape(1,-1)\n",
    "\n",
    "        prediction = model2.predict(input_data_reshaped1)\n",
    "        if (prediction[0]==1):\n",
    "            k = 'Good Quality Wine'\n",
    "        else:\n",
    "            k = 'Bad Quality Wine'\n",
    "        messagebox.showinfo(title=\"Predict\",message=f\"Predict is {str(k)}\")\n",
    "\n",
    "   \n",
    "    \n",
    "    predict_btn = Button(q_frame,text = \"PREDICT\",command=Predict1,bg = \"pink\",font = ('',18,'bold'),relief = 'raised')\n",
    "    predict_btn.place(relx = 0.5,rely = 0.9)\n",
    "    \n",
    "    root.mainloop()\n"
   ]
  },
  {
   "cell_type": "code",
   "execution_count": null,
   "metadata": {},
   "outputs": [],
   "source": [
    "home_screen()"
   ]
  },
  {
   "cell_type": "code",
   "execution_count": null,
   "metadata": {},
   "outputs": [],
   "source": []
  },
  {
   "cell_type": "code",
   "execution_count": null,
   "metadata": {},
   "outputs": [],
   "source": []
  }
 ],
 "metadata": {
  "colab": {
   "name": "INTERNSHIP_PROJECT.ipynb",
   "provenance": []
  },
  "kernelspec": {
   "display_name": "Python 3 (ipykernel)",
   "language": "python",
   "name": "python3"
  },
  "language_info": {
   "codemirror_mode": {
    "name": "ipython",
    "version": 3
   },
   "file_extension": ".py",
   "mimetype": "text/x-python",
   "name": "python",
   "nbconvert_exporter": "python",
   "pygments_lexer": "ipython3",
   "version": "3.9.12"
  }
 },
 "nbformat": 4,
 "nbformat_minor": 1
}
